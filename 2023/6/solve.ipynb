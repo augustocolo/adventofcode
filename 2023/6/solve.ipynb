{
 "cells": [
  {
   "cell_type": "code",
   "execution_count": 1,
   "metadata": {},
   "outputs": [],
   "source": [
    "def remove_newline(values:list[str]):\n",
    "    return [line.strip('\\n') for line in values]"
   ]
  },
  {
   "cell_type": "code",
   "execution_count": 2,
   "metadata": {},
   "outputs": [
    {
     "data": {
      "text/plain": [
       "['Time:      7  15   30', 'Distance:  9  40  200']"
      ]
     },
     "execution_count": 2,
     "metadata": {},
     "output_type": "execute_result"
    }
   ],
   "source": [
    "test_values = []\n",
    "\n",
    "with open('test.txt') as test_file:\n",
    "    test_values = remove_newline(test_file.readlines())\n",
    "\n",
    "test_values"
   ]
  },
  {
   "cell_type": "code",
   "execution_count": 4,
   "metadata": {},
   "outputs": [
    {
     "data": {
      "text/plain": [
       "['Time:        48     93     85     95',\n",
       " 'Distance:   296   1928   1236   1391']"
      ]
     },
     "execution_count": 4,
     "metadata": {},
     "output_type": "execute_result"
    }
   ],
   "source": [
    "input_values = []\n",
    "\n",
    "with open('input.txt') as input_file:\n",
    "    input_values = remove_newline(input_file.readlines())\n",
    "\n",
    "input_values"
   ]
  },
  {
   "cell_type": "markdown",
   "metadata": {},
   "source": [
    "# Part 1"
   ]
  },
  {
   "cell_type": "code",
   "execution_count": 6,
   "metadata": {},
   "outputs": [
    {
     "data": {
      "text/plain": [
       "288"
      ]
     },
     "execution_count": 6,
     "metadata": {},
     "output_type": "execute_result"
    }
   ],
   "source": [
    "import re\n",
    "\n",
    "REGEX_PATTERN = '(\\d+)'\n",
    "\n",
    "def parse_input(values:list[str]) -> list:\n",
    "    res = []\n",
    "    for time, distance in zip(\n",
    "        [int(v) for v in re.findall(REGEX_PATTERN, values[0])],\n",
    "        [int(v) for v in re.findall(REGEX_PATTERN, values[1])]\n",
    "    ):\n",
    "        res.append((time, distance))\n",
    "    return res\n",
    "        \n",
    "\n",
    "def part_1(values:list[str]):\n",
    "    races = parse_input(values)\n",
    "    res = 1\n",
    "    for race in races:\n",
    "        num_wins = 0\n",
    "        for seconds_loading in range(race[0]):\n",
    "            seconds_running = race[0] - seconds_loading\n",
    "            distance_running = seconds_running * seconds_loading\n",
    "            if distance_running > race[1]:\n",
    "                num_wins += 1\n",
    "        res = res * num_wins\n",
    "    return res\n",
    "\n",
    "part_1(test_values)"
   ]
  },
  {
   "cell_type": "code",
   "execution_count": 7,
   "metadata": {},
   "outputs": [
    {
     "data": {
      "text/plain": [
       "2756160"
      ]
     },
     "execution_count": 7,
     "metadata": {},
     "output_type": "execute_result"
    }
   ],
   "source": [
    "part_1(input_values)"
   ]
  },
  {
   "cell_type": "markdown",
   "metadata": {},
   "source": [
    "# Part 2"
   ]
  },
  {
   "cell_type": "code",
   "execution_count": 15,
   "metadata": {},
   "outputs": [],
   "source": [
    "def parse_input_part_2(values:list[str]):\n",
    "    time = int(''.join([v for v in values[0] if v.isdigit()]))\n",
    "    distance = int(''.join([v for v in values[1] if v.isdigit()]))\n",
    "    return [[time, distance]]"
   ]
  },
  {
   "cell_type": "code",
   "execution_count": 20,
   "metadata": {},
   "outputs": [
    {
     "name": "stderr",
     "output_type": "stream",
     "text": [
      "100%|██████████| 71530/71530 [00:00<00:00, 4643315.82it/s]\n"
     ]
    },
    {
     "data": {
      "text/plain": [
       "71503"
      ]
     },
     "execution_count": 20,
     "metadata": {},
     "output_type": "execute_result"
    }
   ],
   "source": [
    "from tqdm import tqdm\n",
    "\n",
    "def part_2(values:list[str]):\n",
    "    races = parse_input_part_2(values)\n",
    "    res = 1\n",
    "    for race in races:\n",
    "        num_wins = 0\n",
    "        for seconds_loading in tqdm(range(race[0])):\n",
    "            seconds_running = race[0] - seconds_loading\n",
    "            distance_running = seconds_running * seconds_loading\n",
    "            if distance_running > race[1]:\n",
    "                num_wins += 1\n",
    "        res = res * num_wins\n",
    "    return res\n",
    "\n",
    "part_2(test_values)"
   ]
  },
  {
   "cell_type": "code",
   "execution_count": 21,
   "metadata": {},
   "outputs": [
    {
     "name": "stderr",
     "output_type": "stream",
     "text": [
      "100%|██████████| 48938595/48938595 [00:04<00:00, 11314837.85it/s]\n"
     ]
    },
    {
     "data": {
      "text/plain": [
       "34788142"
      ]
     },
     "execution_count": 21,
     "metadata": {},
     "output_type": "execute_result"
    }
   ],
   "source": [
    "part_2(input_values)"
   ]
  },
  {
   "cell_type": "code",
   "execution_count": null,
   "metadata": {},
   "outputs": [],
   "source": []
  }
 ],
 "metadata": {
  "kernelspec": {
   "display_name": ".venv",
   "language": "python",
   "name": "python3"
  },
  "language_info": {
   "codemirror_mode": {
    "name": "ipython",
    "version": 3
   },
   "file_extension": ".py",
   "mimetype": "text/x-python",
   "name": "python",
   "nbconvert_exporter": "python",
   "pygments_lexer": "ipython3",
   "version": "3.11.6"
  }
 },
 "nbformat": 4,
 "nbformat_minor": 2
}
